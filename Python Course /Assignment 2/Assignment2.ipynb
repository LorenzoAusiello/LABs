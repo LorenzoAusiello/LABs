{
 "cells": [
  {
   "cell_type": "markdown",
   "id": "8cb49ee4",
   "metadata": {},
   "source": [
    "# Problem 1"
   ]
  },
  {
   "cell_type": "code",
   "execution_count": 17,
   "id": "14d2af8c",
   "metadata": {},
   "outputs": [
    {
     "name": "stdout",
     "output_type": "stream",
     "text": [
      "0.102753\n",
      "0.13336\n"
     ]
    }
   ],
   "source": [
    "x = [0.18, 1.0, 0.92, 0.07, 0.85, 0.99, 0.87]\n",
    "y = [109.85, 155.72, 137.66, 76.17, 139.75, 162.6, 151.77]\n",
    "\n",
    "def gradient(w, c):\n",
    "    dw = 0  # Initialize the gradient of the weight to zero\n",
    "    dc = 0  # Initialize the gradient of the intercept to zero\n",
    "\n",
    "    for i in range(len(x)):\n",
    "        ypred = x[i] * w + c  # Calculate the predicted y-value using the current w and c\n",
    "        dw += x[i] * (ypred - y[i])  # Update the gradient of the weight\n",
    "        dc += (ypred - y[i])  # Update the gradient of the intercept\n",
    "\n",
    "    dw /= len(x)  # Average the weight gradient over all data points\n",
    "    dc /= len(x)  # Average the intercept gradient over all data points\n",
    "\n",
    "    return dw, dc  # Return the calculated weight and intercept gradients\n",
    "\n",
    "w = 0  # Initialize the weight to zero\n",
    "c = 0  # Initialize the intercept to zero\n",
    "learning_rate = 0.001  # Set the learning rate for gradient descent\n",
    "\n",
    "num_iterations = 1  # Set the number of iterations for gradient descent\n",
    "\n",
    "for i in range(num_iterations):\n",
    "    dw, dc = gradient(w, c)  # Calculate the gradients of w and c\n",
    "    w -= learning_rate * dw  # Update the weight using gradient descent\n",
    "    c -= learning_rate * dc  # Update the intercept using gradient descent\n",
    "\n",
    "print(round(w,6))\n",
    "print(c)"
   ]
  },
  {
   "cell_type": "code",
   "execution_count": 18,
   "id": "ed133b9c",
   "metadata": {},
   "outputs": [
    {
     "name": "stdout",
     "output_type": "stream",
     "text": [
      "17.724811\n",
      "22.97599\n"
     ]
    }
   ],
   "source": [
    "def gradient(w, c):\n",
    "    dw = 0\n",
    "    dc = 0\n",
    "\n",
    "    for i in range(len(x)):\n",
    "        ypred = x[i] * w + c\n",
    "        dw += x[i] * (ypred - y[i])\n",
    "        dc += (ypred - y[i])\n",
    "\n",
    "    dw /= len(x)\n",
    "    dc /= len(x)\n",
    "\n",
    "    return dw, dc\n",
    "\n",
    "w = 0\n",
    "c = 0\n",
    "learning_rate = 0.001\n",
    "\n",
    "num_iterations = 200 #just changed num_iterations\n",
    "\n",
    "for i in range(num_iterations):\n",
    "    dw, dc = gradient(w, c)\n",
    "    w -= learning_rate * dw\n",
    "    c -= learning_rate * dc\n",
    "\n",
    "print(round(w,6))\n",
    "print(round(c,6))"
   ]
  },
  {
   "cell_type": "markdown",
   "id": "7f6b278f",
   "metadata": {},
   "source": [
    "# Problem 2"
   ]
  },
  {
   "cell_type": "code",
   "execution_count": 8,
   "id": "b952bed5",
   "metadata": {},
   "outputs": [
    {
     "name": "stdout",
     "output_type": "stream",
     "text": [
      "[False, True, False, False, False, False, True]\n",
      "[True, True, True, True, True, False, True]\n",
      "[False, False, True, True, False, True, False]\n"
     ]
    }
   ],
   "source": [
    "x = [True, True, False, False, True, False, True]\n",
    "y = [False, True, True, True, False, False, True]\n",
    "\n",
    "result_and= []\n",
    "result_or= []\n",
    "result_not_x= []\n",
    "\n",
    "# Iterate through corresponding elements of lists x and y using zip\n",
    "for i, j in zip(x, y):\n",
    "    result_and.append(i and j)  # Calculate the 'and' operation result and append it to the result_and list\n",
    "    result_or.append(i or j)    # Calculate the 'or' operation result and append it to the result_or list\n",
    "    result_not_x.append(not i)  # Calculate the 'not' operation on 'x' and append the result to the result_not_x list\n",
    "\n",
    "print(result_and)\n",
    "print(result_or)\n",
    "print(result_not_x)"
   ]
  },
  {
   "cell_type": "markdown",
   "id": "96a961da",
   "metadata": {},
   "source": [
    "# Problem 2.2"
   ]
  },
  {
   "cell_type": "code",
   "execution_count": 34,
   "id": "e3bf7dd8",
   "metadata": {},
   "outputs": [
    {
     "name": "stdout",
     "output_type": "stream",
     "text": [
      "true\n",
      "false\n"
     ]
    }
   ],
   "source": [
    "x = [True, True, False, False, True]\n",
    "y = [True, False, False, False, False]\n",
    "\n",
    "# Check for x\n",
    "xcount = x.count(True)  # Count the number of True values in the list x\n",
    "xperc = xcount / len(x)  # Calculate the percentage of True values in x\n",
    "\n",
    "if xperc >= 0.4:\n",
    "    print('true')  # If the percentage is greater than or equal to 40%, print 'true'\n",
    "else:\n",
    "    print('false') \n",
    "\n",
    "# Check for y\n",
    "ycount = y.count(True)  # Count the number of True values in the list y\n",
    "yperc = ycount / len(y)  # Calculate the percentage of True values in y\n",
    "\n",
    "if yperc >= 0.4:\n",
    "    print('true')  # If the percentage is greater than or equal to 40%, print 'true'\n",
    "else:\n",
    "    print('false')  "
   ]
  },
  {
   "cell_type": "markdown",
   "id": "02fe0618",
   "metadata": {},
   "source": [
    "# Problem 3"
   ]
  },
  {
   "cell_type": "code",
   "execution_count": 38,
   "id": "1a5b7e00",
   "metadata": {},
   "outputs": [
    {
     "name": "stdout",
     "output_type": "stream",
     "text": [
      "{'p': 3, 'y': 2, 't': 3, 'h': 1, 'o': 2, 'n': 6, 'i': 4, 's': 1, 'a': 5, 'e': 4, 'r': 4, 'd': 2, 'm': 3, 'c': 1, 'g': 4, 'l': 1, 'u': 1}\n"
     ]
    }
   ],
   "source": [
    "string = 'python is an interpreted dynamic programming language'\n",
    "list_A = list(string)  # Convert the string into a list of characters\n",
    "\n",
    "char = {}  # Initialize an empty dictionary to count character occurrences\n",
    "\n",
    "# Iterate through the characters in list_A\n",
    "for i in list_A:\n",
    "    if i != ' ':  # Exclude spaces\n",
    "        if i in char:\n",
    "            char[i] += 1  # Increment the count for an existing character\n",
    "        else:\n",
    "            char[i] = 1  # Initialize the count for a new character\n",
    "\n",
    "print(char)"
   ]
  },
  {
   "cell_type": "code",
   "execution_count": 41,
   "id": "081212ca",
   "metadata": {},
   "outputs": [
    {
     "name": "stdout",
     "output_type": "stream",
     "text": [
      "p 3\n",
      "y 2\n",
      "t 3\n",
      "o 2\n",
      "n 6\n",
      "i 4\n",
      "a 5\n",
      "e 4\n",
      "r 4\n",
      "d 2\n",
      "m 3\n",
      "g 4\n"
     ]
    }
   ],
   "source": [
    "for i,count in char.items():\n",
    "        if count > 1:\n",
    "            print(i, count)"
   ]
  },
  {
   "cell_type": "markdown",
   "id": "850de808",
   "metadata": {},
   "source": [
    "# Problem 4"
   ]
  },
  {
   "cell_type": "code",
   "execution_count": 43,
   "id": "0a607c46",
   "metadata": {},
   "outputs": [
    {
     "name": "stdout",
     "output_type": "stream",
     "text": [
      "3.5\n"
     ]
    }
   ],
   "source": [
    "list_A = [1, 2, 3, 4, 5, 6]\n",
    "total = 0  # Initialize a variable to keep track of the sum of elements\n",
    "count = 0  # Initialize a variable to keep track of the number of elements\n",
    "\n",
    "# Iterate through the elements in list_A\n",
    "for i in list_A:\n",
    "    total += i  # Add the current element to the running total\n",
    "    count += 1  # Increment the count of elements\n",
    "    mean = total / count  # Calculate the mean by dividing the total by the count\n",
    "    \n",
    "print(mean)"
   ]
  }
 ],
 "metadata": {
  "kernelspec": {
   "display_name": "Python 3 (ipykernel)",
   "language": "python",
   "name": "python3"
  },
  "language_info": {
   "codemirror_mode": {
    "name": "ipython",
    "version": 3
   },
   "file_extension": ".py",
   "mimetype": "text/x-python",
   "name": "python",
   "nbconvert_exporter": "python",
   "pygments_lexer": "ipython3",
   "version": "3.10.9"
  }
 },
 "nbformat": 4,
 "nbformat_minor": 5
}
